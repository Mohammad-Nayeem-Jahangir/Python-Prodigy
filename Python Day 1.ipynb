{
 "cells": [
  {
   "cell_type": "markdown",
   "id": "ed18e081",
   "metadata": {},
   "source": [
    "# Variable & Input/Output Function"
   ]
  },
  {
   "cell_type": "code",
   "execution_count": 2,
   "id": "21ca4667",
   "metadata": {},
   "outputs": [
    {
     "name": "stdout",
     "output_type": "stream",
     "text": [
      "Hello World\n"
     ]
    }
   ],
   "source": [
    "print (\"Hello World\")#Print function"
   ]
  },
  {
   "cell_type": "code",
   "execution_count": 3,
   "id": "9d9f1651",
   "metadata": {},
   "outputs": [
    {
     "name": "stdout",
     "output_type": "stream",
     "text": [
      "Hi This is Nayeem\n"
     ]
    }
   ],
   "source": [
    "print (\"Hi\", \"This is Nayeem\")"
   ]
  },
  {
   "cell_type": "code",
   "execution_count": 4,
   "id": "9cd4ddd6",
   "metadata": {},
   "outputs": [],
   "source": [
    "#Use \"Shift+Tab\" for checking the format"
   ]
  },
  {
   "cell_type": "code",
   "execution_count": 6,
   "id": "840bea11",
   "metadata": {},
   "outputs": [
    {
     "ename": "SyntaxError",
     "evalue": "unexpected character after line continuation character (1164215393.py, line 1)",
     "output_type": "error",
     "traceback": [
      "\u001b[0;36m  Cell \u001b[0;32mIn[6], line 1\u001b[0;36m\u001b[0m\n\u001b[0;31m    print(\"Hi\"\\ \"This is Nayeem\")\u001b[0m\n\u001b[0m               ^\u001b[0m\n\u001b[0;31mSyntaxError\u001b[0m\u001b[0;31m:\u001b[0m unexpected character after line continuation character\n"
     ]
    }
   ],
   "source": [
    "var"
   ]
  },
  {
   "cell_type": "code",
   "execution_count": 8,
   "id": "d1cfa9a0",
   "metadata": {},
   "outputs": [
    {
     "name": "stdout",
     "output_type": "stream",
     "text": [
      "Hello World\n"
     ]
    }
   ],
   "source": [
    "Var= \"Hello World\" #Assigning value to a variable\n",
    "print (Var)"
   ]
  },
  {
   "cell_type": "code",
   "execution_count": 10,
   "id": "d1c59f2b",
   "metadata": {},
   "outputs": [
    {
     "name": "stdout",
     "output_type": "stream",
     "text": [
      "My sentence is Hello World\n"
     ]
    }
   ],
   "source": [
    "print (\"My sentence is \" +Var) #Use the assigned variable "
   ]
  },
  {
   "cell_type": "code",
   "execution_count": 11,
   "id": "6ae4d324",
   "metadata": {},
   "outputs": [
    {
     "data": {
      "text/plain": [
       "4478172464"
      ]
     },
     "execution_count": 11,
     "metadata": {},
     "output_type": "execute_result"
    }
   ],
   "source": [
    "id(Var)#Checking the memory location"
   ]
  },
  {
   "cell_type": "code",
   "execution_count": 12,
   "id": "5cfb4ee2",
   "metadata": {},
   "outputs": [
    {
     "data": {
      "text/plain": [
       "60"
      ]
     },
     "execution_count": 12,
     "metadata": {},
     "output_type": "execute_result"
    }
   ],
   "source": [
    "import sys\n",
    "sys.getsizeof(Var)#Checking the size of Var"
   ]
  },
  {
   "cell_type": "markdown",
   "id": "23cf8a31",
   "metadata": {},
   "source": [
    "Valid and Invalid example of variable:\n",
    "\n",
    "Valid Example: \n",
    "i. Var= 10\n",
    "ii. Var2=100\n",
    "iii. _var=20\n",
    "iv. Var_2=10\n",
    "v. V1a2r3=30\n",
    "vi. My_name=Shakil\n",
    "\n",
    "Invalid Example:\n",
    "9Var= 40\n",
    "var-2=255\n",
    "&var=20\n",
    "My_name= 'Nayeem\""
   ]
  },
  {
   "cell_type": "code",
   "execution_count": 13,
   "id": "0dac9744",
   "metadata": {},
   "outputs": [],
   "source": [
    "x=100"
   ]
  },
  {
   "cell_type": "code",
   "execution_count": 14,
   "id": "688e14b1",
   "metadata": {},
   "outputs": [
    {
     "data": {
      "text/plain": [
       "100"
      ]
     },
     "execution_count": 14,
     "metadata": {},
     "output_type": "execute_result"
    }
   ],
   "source": [
    "x"
   ]
  },
  {
   "cell_type": "code",
   "execution_count": 15,
   "id": "08fd9358",
   "metadata": {},
   "outputs": [
    {
     "data": {
      "text/plain": [
       "4376721608"
      ]
     },
     "execution_count": 15,
     "metadata": {},
     "output_type": "execute_result"
    }
   ],
   "source": [
    "id(x)"
   ]
  },
  {
   "cell_type": "code",
   "execution_count": 16,
   "id": "096a3b35",
   "metadata": {},
   "outputs": [
    {
     "data": {
      "text/plain": [
       "4462004464"
      ]
     },
     "execution_count": 16,
     "metadata": {},
     "output_type": "execute_result"
    }
   ],
   "source": [
    "y=322.456\n",
    "id(y)"
   ]
  },
  {
   "cell_type": "code",
   "execution_count": 17,
   "id": "d9c041fa",
   "metadata": {},
   "outputs": [
    {
     "data": {
      "text/plain": [
       "4376721608"
      ]
     },
     "execution_count": 17,
     "metadata": {},
     "output_type": "execute_result"
    }
   ],
   "source": [
    "x=100\n",
    "y=100\n",
    "id(x)\n",
    "id(y)"
   ]
  },
  {
   "cell_type": "code",
   "execution_count": 18,
   "id": "617281d8",
   "metadata": {},
   "outputs": [
    {
     "data": {
      "text/plain": [
       "4376721608"
      ]
     },
     "execution_count": 18,
     "metadata": {},
     "output_type": "execute_result"
    }
   ],
   "source": [
    "id(x)"
   ]
  },
  {
   "cell_type": "code",
   "execution_count": 19,
   "id": "e2f84d96",
   "metadata": {},
   "outputs": [
    {
     "data": {
      "text/plain": [
       "4376721608"
      ]
     },
     "execution_count": 19,
     "metadata": {},
     "output_type": "execute_result"
    }
   ],
   "source": [
    "id(y)"
   ]
  },
  {
   "cell_type": "code",
   "execution_count": 20,
   "id": "922e0a6b",
   "metadata": {},
   "outputs": [
    {
     "data": {
      "text/plain": [
       "4478131952"
      ]
     },
     "execution_count": 20,
     "metadata": {},
     "output_type": "execute_result"
    }
   ],
   "source": [
    "x=1000\n",
    "y=1000\n",
    "id(x)\n",
    "id(y)"
   ]
  },
  {
   "cell_type": "code",
   "execution_count": 21,
   "id": "41fb217f",
   "metadata": {},
   "outputs": [
    {
     "data": {
      "text/plain": [
       "4478136080"
      ]
     },
     "execution_count": 21,
     "metadata": {},
     "output_type": "execute_result"
    }
   ],
   "source": [
    "id(x)"
   ]
  },
  {
   "cell_type": "code",
   "execution_count": 22,
   "id": "7334ce8b",
   "metadata": {},
   "outputs": [
    {
     "data": {
      "text/plain": [
       "4478131952"
      ]
     },
     "execution_count": 22,
     "metadata": {},
     "output_type": "execute_result"
    }
   ],
   "source": [
    "id(y)#id(x) is not equal to id(y)"
   ]
  },
  {
   "cell_type": "code",
   "execution_count": 23,
   "id": "fbced594",
   "metadata": {},
   "outputs": [
    {
     "ename": "ValueError",
     "evalue": "too many values to unpack (expected 2)",
     "output_type": "error",
     "traceback": [
      "\u001b[0;31m---------------------------------------------------------------------------\u001b[0m",
      "\u001b[0;31mValueError\u001b[0m                                Traceback (most recent call last)",
      "Cell \u001b[0;32mIn[23], line 2\u001b[0m\n\u001b[1;32m      1\u001b[0m x,y,z\u001b[38;5;241m=\u001b[39m \u001b[38;5;241m10\u001b[39m,\u001b[38;5;241m199\u001b[39m,\u001b[38;5;241m299\u001b[39m \u001b[38;5;66;03m#Valid multiple variable\u001b[39;00m\n\u001b[0;32m----> 2\u001b[0m X,Y\u001b[38;5;241m=\u001b[39m \u001b[38;5;241m100\u001b[39m,\u001b[38;5;241m200\u001b[39m,\u001b[38;5;241m300\u001b[39m \u001b[38;5;66;03m#Invalid multiple variable\u001b[39;00m\n\u001b[1;32m      3\u001b[0m \u001b[38;5;28mprint\u001b[39m (x)\n",
      "\u001b[0;31mValueError\u001b[0m: too many values to unpack (expected 2)"
     ]
    }
   ],
   "source": [
    "x,y,z= 10,199,299 #Valid multiple variable\n",
    "X,Y= 100,200,300 #Invalid multiple variable"
   ]
  },
  {
   "cell_type": "code",
   "execution_count": 24,
   "id": "89237316",
   "metadata": {},
   "outputs": [
    {
     "data": {
      "text/plain": [
       "10"
      ]
     },
     "execution_count": 24,
     "metadata": {},
     "output_type": "execute_result"
    }
   ],
   "source": [
    "x"
   ]
  },
  {
   "cell_type": "code",
   "execution_count": 26,
   "id": "5d5edcb2",
   "metadata": {},
   "outputs": [
    {
     "data": {
      "text/plain": [
       "299"
      ]
     },
     "execution_count": 26,
     "metadata": {},
     "output_type": "execute_result"
    }
   ],
   "source": [
    "z"
   ]
  },
  {
   "cell_type": "markdown",
   "id": "5739a791",
   "metadata": {},
   "source": [
    "Multi Word Variable Name:\n",
    "i. camelCaseVar\n",
    "ii. PascalCaseVar\n",
    "iii. snake_case_var"
   ]
  },
  {
   "cell_type": "markdown",
   "id": "4925063b",
   "metadata": {},
   "source": [
    "# LOCAL vs GLOBAL Variable"
   ]
  },
  {
   "cell_type": "code",
   "execution_count": 31,
   "id": "e345fb09",
   "metadata": {},
   "outputs": [
    {
     "name": "stdout",
     "output_type": "stream",
     "text": [
      "My number is:        100\n"
     ]
    }
   ],
   "source": [
    "x= 100 #Global Variable\n",
    "\n",
    "def func1():\n",
    "    print(\"My number is:       \",x)\n",
    "func1()    "
   ]
  },
  {
   "cell_type": "code",
   "execution_count": 32,
   "id": "f5457021",
   "metadata": {},
   "outputs": [
    {
     "name": "stdout",
     "output_type": "stream",
     "text": [
      "My number is:        500\n"
     ]
    }
   ],
   "source": [
    "x= 100 #Global Variable\n",
    "\n",
    "def func1():\n",
    "    x=500 #Local variable\n",
    "    print(\"My number is:       \",x)\n",
    "func1()  \n",
    "\n",
    " "
   ]
  },
  {
   "cell_type": "code",
   "execution_count": 35,
   "id": "7983c5ab",
   "metadata": {},
   "outputs": [
    {
     "name": "stdout",
     "output_type": "stream",
     "text": [
      "My number is:        500\n",
      "My number is:        200\n"
     ]
    }
   ],
   "source": [
    "x= 100 #Global Variable\n",
    "G=\n",
    "\n",
    "def func1():\n",
    "    x=500 #Local variable\n",
    "    print(\"My number is:       \",x)\n",
    "func1() \n",
    "\n",
    "def func2():\n",
    "    G=200 # Local variable\n",
    "    print(\"My number is:       \",G)\n",
    "func2()  "
   ]
  },
  {
   "cell_type": "code",
   "execution_count": null,
   "id": "95a0bd54",
   "metadata": {},
   "outputs": [],
   "source": []
  }
 ],
 "metadata": {
  "kernelspec": {
   "display_name": "Python 3 (ipykernel)",
   "language": "python",
   "name": "python3"
  },
  "language_info": {
   "codemirror_mode": {
    "name": "ipython",
    "version": 3
   },
   "file_extension": ".py",
   "mimetype": "text/x-python",
   "name": "python",
   "nbconvert_exporter": "python",
   "pygments_lexer": "ipython3",
   "version": "3.11.7"
  }
 },
 "nbformat": 4,
 "nbformat_minor": 5
}
