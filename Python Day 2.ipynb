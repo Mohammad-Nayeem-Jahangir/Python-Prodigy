{
 "cells": [
  {
   "cell_type": "markdown",
   "id": "723efd3f",
   "metadata": {},
   "source": [
    "# Input-Output and Strings"
   ]
  },
  {
   "cell_type": "code",
   "execution_count": 1,
   "id": "c47b5f7e",
   "metadata": {},
   "outputs": [],
   "source": [
    "Data= \"Data Science Fun\""
   ]
  },
  {
   "cell_type": "code",
   "execution_count": 2,
   "id": "1f7b9f81",
   "metadata": {},
   "outputs": [
    {
     "data": {
      "text/plain": [
       "str"
      ]
     },
     "execution_count": 2,
     "metadata": {},
     "output_type": "execute_result"
    }
   ],
   "source": [
    "type (Data)#Checking the type"
   ]
  },
  {
   "cell_type": "code",
   "execution_count": 3,
   "id": "9a98d59a",
   "metadata": {},
   "outputs": [
    {
     "name": "stdout",
     "output_type": "stream",
     "text": [
      "Data is important\n"
     ]
    }
   ],
   "source": [
    "Data=input() #Taking data via input function"
   ]
  },
  {
   "cell_type": "code",
   "execution_count": 4,
   "id": "d0c6bbbf",
   "metadata": {},
   "outputs": [
    {
     "data": {
      "text/plain": [
       "'Data is important'"
      ]
     },
     "execution_count": 4,
     "metadata": {},
     "output_type": "execute_result"
    }
   ],
   "source": [
    "Data"
   ]
  },
  {
   "cell_type": "code",
   "execution_count": 5,
   "id": "dccf7a3d",
   "metadata": {},
   "outputs": [
    {
     "data": {
      "text/plain": [
       "str"
      ]
     },
     "execution_count": 5,
     "metadata": {},
     "output_type": "execute_result"
    }
   ],
   "source": [
    "type(Data)"
   ]
  },
  {
   "cell_type": "code",
   "execution_count": 6,
   "id": "63113094",
   "metadata": {},
   "outputs": [
    {
     "name": "stdout",
     "output_type": "stream",
     "text": [
      "20\n",
      "30\n"
     ]
    }
   ],
   "source": [
    "x=input()\n",
    "y=input()"
   ]
  },
  {
   "cell_type": "code",
   "execution_count": 7,
   "id": "1b6d327e",
   "metadata": {},
   "outputs": [
    {
     "data": {
      "text/plain": [
       "'2030'"
      ]
     },
     "execution_count": 7,
     "metadata": {},
     "output_type": "execute_result"
    }
   ],
   "source": [
    "x+y #Values stored in x and y as string."
   ]
  },
  {
   "cell_type": "code",
   "execution_count": 8,
   "id": "73dd3bbc",
   "metadata": {},
   "outputs": [
    {
     "data": {
      "text/plain": [
       "str"
      ]
     },
     "execution_count": 8,
     "metadata": {},
     "output_type": "execute_result"
    }
   ],
   "source": [
    "type (x)"
   ]
  },
  {
   "cell_type": "code",
   "execution_count": 9,
   "id": "7185c89f",
   "metadata": {},
   "outputs": [
    {
     "data": {
      "text/plain": [
       "str"
      ]
     },
     "execution_count": 9,
     "metadata": {},
     "output_type": "execute_result"
    }
   ],
   "source": [
    "type (y)"
   ]
  },
  {
   "cell_type": "code",
   "execution_count": 10,
   "id": "31ca8c4d",
   "metadata": {},
   "outputs": [],
   "source": [
    "x=int(x)#Conversion of x from string to int."
   ]
  },
  {
   "cell_type": "code",
   "execution_count": 11,
   "id": "0ec5fa48",
   "metadata": {},
   "outputs": [
    {
     "data": {
      "text/plain": [
       "20"
      ]
     },
     "execution_count": 11,
     "metadata": {},
     "output_type": "execute_result"
    }
   ],
   "source": [
    "x"
   ]
  },
  {
   "cell_type": "code",
   "execution_count": 12,
   "id": "045adc54",
   "metadata": {},
   "outputs": [
    {
     "data": {
      "text/plain": [
       "int"
      ]
     },
     "execution_count": 12,
     "metadata": {},
     "output_type": "execute_result"
    }
   ],
   "source": [
    "type(x)"
   ]
  },
  {
   "cell_type": "code",
   "execution_count": 13,
   "id": "6973562d",
   "metadata": {},
   "outputs": [],
   "source": [
    "y=int(y)"
   ]
  },
  {
   "cell_type": "code",
   "execution_count": 14,
   "id": "3cddefc3",
   "metadata": {},
   "outputs": [
    {
     "data": {
      "text/plain": [
       "30"
      ]
     },
     "execution_count": 14,
     "metadata": {},
     "output_type": "execute_result"
    }
   ],
   "source": [
    "y"
   ]
  },
  {
   "cell_type": "code",
   "execution_count": 15,
   "id": "fc3967bc",
   "metadata": {},
   "outputs": [
    {
     "data": {
      "text/plain": [
       "50"
      ]
     },
     "execution_count": 15,
     "metadata": {},
     "output_type": "execute_result"
    }
   ],
   "source": [
    "x+y"
   ]
  },
  {
   "cell_type": "code",
   "execution_count": 17,
   "id": "4c83b519",
   "metadata": {},
   "outputs": [
    {
     "name": "stdout",
     "output_type": "stream",
     "text": [
      "Enter a value for x=  123\n",
      "Enter a value for y=  134\n"
     ]
    }
   ],
   "source": [
    "x= int(input(\"Enter a value for x=  \")) #Taking int value for x and y\n",
    "y= int(input(\"Enter a value for y=  \"))"
   ]
  },
  {
   "cell_type": "code",
   "execution_count": 18,
   "id": "28d1cdc9",
   "metadata": {},
   "outputs": [
    {
     "name": "stdout",
     "output_type": "stream",
     "text": [
      "257\n"
     ]
    }
   ],
   "source": [
    "print (x+y)"
   ]
  },
  {
   "cell_type": "code",
   "execution_count": 19,
   "id": "bd925b84",
   "metadata": {},
   "outputs": [
    {
     "name": "stdout",
     "output_type": "stream",
     "text": [
      "Enter a value for a=  12.25\n",
      "Enter a value for b=  35.67\n",
      "12.25\n",
      "35.67\n",
      "47.92\n",
      "-23.42\n",
      "436.95750000000004\n",
      "1272.3489000000002\n"
     ]
    }
   ],
   "source": [
    "a= float(input(\"Enter a value for a=  \")) #Taking float value for a and b\n",
    "b= float(input(\"Enter a value for b=  \"))\n",
    "print(a)\n",
    "print(b)\n",
    "print(a+b)\n",
    "print(a-b)\n",
    "print(a*b)\n",
    "print(b*b)"
   ]
  },
  {
   "cell_type": "markdown",
   "id": "851ba96e",
   "metadata": {},
   "source": [
    "STRING"
   ]
  },
  {
   "cell_type": "code",
   "execution_count": 20,
   "id": "3a33550d",
   "metadata": {},
   "outputs": [
    {
     "data": {
      "text/plain": [
       "23"
      ]
     },
     "execution_count": 20,
     "metadata": {},
     "output_type": "execute_result"
    }
   ],
   "source": [
    "len(\"NAYEEM the Data Analyst\") #Checking legth of a string"
   ]
  },
  {
   "cell_type": "code",
   "execution_count": 23,
   "id": "a10e9b97",
   "metadata": {},
   "outputs": [],
   "source": [
    "Dream= \"NAYEEM the Data Analyst\""
   ]
  },
  {
   "cell_type": "code",
   "execution_count": 25,
   "id": "7eec2e5f",
   "metadata": {},
   "outputs": [
    {
     "data": {
      "text/plain": [
       "72"
      ]
     },
     "execution_count": 25,
     "metadata": {},
     "output_type": "execute_result"
    }
   ],
   "source": [
    "import sys\n",
    "sys.getsizeof(Dream) #Checking the size of Dream variable"
   ]
  },
  {
   "cell_type": "code",
   "execution_count": 26,
   "id": "c35c7061",
   "metadata": {},
   "outputs": [
    {
     "data": {
      "text/plain": [
       "1"
      ]
     },
     "execution_count": 26,
     "metadata": {},
     "output_type": "execute_result"
    }
   ],
   "source": [
    "Dream.count(\"Data\") #Checking how many times \"data\" word is available in Dream variable "
   ]
  },
  {
   "cell_type": "code",
   "execution_count": 30,
   "id": "20f21ca7",
   "metadata": {},
   "outputs": [
    {
     "data": {
      "text/plain": [
       "11"
      ]
     },
     "execution_count": 30,
     "metadata": {},
     "output_type": "execute_result"
    }
   ],
   "source": [
    "Dream.find(\"Data\") #Tracking the location of a word using find function"
   ]
  },
  {
   "cell_type": "code",
   "execution_count": 31,
   "id": "cd52a275",
   "metadata": {},
   "outputs": [
    {
     "data": {
      "text/plain": [
       "3"
      ]
     },
     "execution_count": 31,
     "metadata": {},
     "output_type": "execute_result"
    }
   ],
   "source": [
    "Dream.find(\"E\") #Tracking the location of a letter (The first one avialable)"
   ]
  },
  {
   "cell_type": "code",
   "execution_count": 32,
   "id": "3991ce31",
   "metadata": {},
   "outputs": [
    {
     "data": {
      "text/plain": [
       "4"
      ]
     },
     "execution_count": 32,
     "metadata": {},
     "output_type": "execute_result"
    }
   ],
   "source": [
    "Dream.find(\"E\",4,8) #Tracking the location of a letter within a range"
   ]
  },
  {
   "cell_type": "code",
   "execution_count": 33,
   "id": "ebbf66c6",
   "metadata": {},
   "outputs": [
    {
     "data": {
      "text/plain": [
       "11"
      ]
     },
     "execution_count": 33,
     "metadata": {},
     "output_type": "execute_result"
    }
   ],
   "source": [
    "Dream.index(\"Data\") #Tracking the location of a word using index function"
   ]
  },
  {
   "cell_type": "code",
   "execution_count": 34,
   "id": "a8dfa1d3",
   "metadata": {},
   "outputs": [
    {
     "data": {
      "text/plain": [
       "3"
      ]
     },
     "execution_count": 34,
     "metadata": {},
     "output_type": "execute_result"
    }
   ],
   "source": [
    "Dream.index(\"E\") #Tracking the location of a letter via index function"
   ]
  },
  {
   "cell_type": "code",
   "execution_count": 35,
   "id": "dcedfc46",
   "metadata": {},
   "outputs": [
    {
     "data": {
      "text/plain": [
       "-1"
      ]
     },
     "execution_count": 35,
     "metadata": {},
     "output_type": "execute_result"
    }
   ],
   "source": [
    "Dream.find(\"Z\") #find function shows (-1) when unavailable"
   ]
  },
  {
   "cell_type": "code",
   "execution_count": 36,
   "id": "13e75be3",
   "metadata": {},
   "outputs": [
    {
     "ename": "ValueError",
     "evalue": "substring not found",
     "output_type": "error",
     "traceback": [
      "\u001b[0;31m---------------------------------------------------------------------------\u001b[0m",
      "\u001b[0;31mValueError\u001b[0m                                Traceback (most recent call last)",
      "Cell \u001b[0;32mIn[36], line 1\u001b[0m\n\u001b[0;32m----> 1\u001b[0m Dream\u001b[38;5;241m.\u001b[39mindex(\u001b[38;5;124m\"\u001b[39m\u001b[38;5;124mZ\u001b[39m\u001b[38;5;124m\"\u001b[39m)\n",
      "\u001b[0;31mValueError\u001b[0m: substring not found"
     ]
    }
   ],
   "source": [
    "Dream.index(\"Z\") #index function shows error when unavailable"
   ]
  },
  {
   "cell_type": "code",
   "execution_count": 37,
   "id": "294f9bc5",
   "metadata": {},
   "outputs": [
    {
     "data": {
      "text/plain": [
       "'nayeem the data analyst'"
      ]
     },
     "execution_count": 37,
     "metadata": {},
     "output_type": "execute_result"
    }
   ],
   "source": [
    "Dream.lower() #Convert to lower case"
   ]
  },
  {
   "cell_type": "code",
   "execution_count": 39,
   "id": "60b5fd51",
   "metadata": {},
   "outputs": [
    {
     "data": {
      "text/plain": [
       "'NAYEEM THE DATA ANALYST'"
      ]
     },
     "execution_count": 39,
     "metadata": {},
     "output_type": "execute_result"
    }
   ],
   "source": [
    "Dream.upper() #Convert to upper case"
   ]
  },
  {
   "cell_type": "code",
   "execution_count": 40,
   "id": "5c522672",
   "metadata": {},
   "outputs": [
    {
     "data": {
      "text/plain": [
       "'Nayeem the data analyst'"
      ]
     },
     "execution_count": 40,
     "metadata": {},
     "output_type": "execute_result"
    }
   ],
   "source": [
    "Dream.capitalize() #Capitalize the first letter"
   ]
  },
  {
   "cell_type": "code",
   "execution_count": 41,
   "id": "7380f68a",
   "metadata": {},
   "outputs": [
    {
     "data": {
      "text/plain": [
       "'Nayeem The Data Analyst'"
      ]
     },
     "execution_count": 41,
     "metadata": {},
     "output_type": "execute_result"
    }
   ],
   "source": [
    "Dream.title() #Capitalize the first letter of each word"
   ]
  },
  {
   "cell_type": "code",
   "execution_count": 42,
   "id": "7bcec7b5",
   "metadata": {},
   "outputs": [
    {
     "data": {
      "text/plain": [
       "b'NAYEEM the Data Analyst'"
      ]
     },
     "execution_count": 42,
     "metadata": {},
     "output_type": "execute_result"
    }
   ],
   "source": [
    "Dream.encode()#Convert to encoded version"
   ]
  },
  {
   "cell_type": "code",
   "execution_count": 44,
   "id": "c7cb792a",
   "metadata": {},
   "outputs": [
    {
     "data": {
      "text/plain": [
       "bytes"
      ]
     },
     "execution_count": 44,
     "metadata": {},
     "output_type": "execute_result"
    }
   ],
   "source": [
    "type(Dream.encode())"
   ]
  },
  {
   "cell_type": "code",
   "execution_count": 45,
   "id": "1c5855a0",
   "metadata": {},
   "outputs": [
    {
     "data": {
      "text/plain": [
       "['NAYEEM', 'the', 'Data', 'Analyst']"
      ]
     },
     "execution_count": 45,
     "metadata": {},
     "output_type": "execute_result"
    }
   ],
   "source": [
    "Dream.split ()#Split and show as a list"
   ]
  },
  {
   "cell_type": "code",
   "execution_count": 46,
   "id": "47837fcb",
   "metadata": {},
   "outputs": [
    {
     "data": {
      "text/plain": [
       "'NAYEEM'"
      ]
     },
     "execution_count": 46,
     "metadata": {},
     "output_type": "execute_result"
    }
   ],
   "source": [
    "Dream.split ()[0]"
   ]
  },
  {
   "cell_type": "code",
   "execution_count": 47,
   "id": "2351b764",
   "metadata": {},
   "outputs": [
    {
     "data": {
      "text/plain": [
       "'Data'"
      ]
     },
     "execution_count": 47,
     "metadata": {},
     "output_type": "execute_result"
    }
   ],
   "source": [
    "Dream.split ()[2]"
   ]
  },
  {
   "cell_type": "code",
   "execution_count": 49,
   "id": "9ae3babc",
   "metadata": {},
   "outputs": [
    {
     "data": {
      "text/plain": [
       "'Analyst'"
      ]
     },
     "execution_count": 49,
     "metadata": {},
     "output_type": "execute_result"
    }
   ],
   "source": [
    "Dream.split ()[3]"
   ]
  },
  {
   "cell_type": "code",
   "execution_count": null,
   "id": "184e6126",
   "metadata": {},
   "outputs": [],
   "source": []
  }
 ],
 "metadata": {
  "kernelspec": {
   "display_name": "Python 3 (ipykernel)",
   "language": "python",
   "name": "python3"
  },
  "language_info": {
   "codemirror_mode": {
    "name": "ipython",
    "version": 3
   },
   "file_extension": ".py",
   "mimetype": "text/x-python",
   "name": "python",
   "nbconvert_exporter": "python",
   "pygments_lexer": "ipython3",
   "version": "3.11.7"
  }
 },
 "nbformat": 4,
 "nbformat_minor": 5
}
