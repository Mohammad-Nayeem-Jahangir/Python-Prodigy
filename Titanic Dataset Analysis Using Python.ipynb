{
 "cells": [
  {
   "cell_type": "markdown",
   "id": "081add85",
   "metadata": {},
   "source": [
    "Task 01: Load the Dataset"
   ]
  },
  {
   "cell_type": "code",
   "execution_count": 8,
   "id": "fdcb3f09",
   "metadata": {},
   "outputs": [
    {
     "name": "stdout",
     "output_type": "stream",
     "text": [
      "Requirement already satisfied: pandas in /opt/anaconda3/lib/python3.11/site-packages (2.1.4)\n",
      "Requirement already satisfied: numpy<2,>=1.23.2 in /opt/anaconda3/lib/python3.11/site-packages (from pandas) (1.26.4)\n",
      "Requirement already satisfied: python-dateutil>=2.8.2 in /opt/anaconda3/lib/python3.11/site-packages (from pandas) (2.8.2)\n",
      "Requirement already satisfied: pytz>=2020.1 in /opt/anaconda3/lib/python3.11/site-packages (from pandas) (2023.3.post1)\n",
      "Requirement already satisfied: tzdata>=2022.1 in /opt/anaconda3/lib/python3.11/site-packages (from pandas) (2023.3)\n",
      "Requirement already satisfied: six>=1.5 in /opt/anaconda3/lib/python3.11/site-packages (from python-dateutil>=2.8.2->pandas) (1.16.0)\n",
      "Note: you may need to restart the kernel to use updated packages.\n"
     ]
    }
   ],
   "source": [
    "pip install pandas"
   ]
  },
  {
   "cell_type": "code",
   "execution_count": 9,
   "id": "86b4ec89",
   "metadata": {},
   "outputs": [],
   "source": [
    "import pandas as pd"
   ]
  },
  {
   "cell_type": "code",
   "execution_count": 11,
   "id": "16d3c695",
   "metadata": {},
   "outputs": [],
   "source": [
    "#Load CSV file\n",
    "Titanic_Df= pd.read_csv('Titanic-Dataset.csv')"
   ]
  },
  {
   "cell_type": "code",
   "execution_count": 12,
   "id": "c56e4a84",
   "metadata": {},
   "outputs": [
    {
     "name": "stdout",
     "output_type": "stream",
     "text": [
      "   PassengerId  Survived  Pclass  \\\n",
      "0            1         0       3   \n",
      "1            2         1       1   \n",
      "2            3         1       3   \n",
      "3            4         1       1   \n",
      "4            5         0       3   \n",
      "\n",
      "                                                Name     Sex   Age  SibSp  \\\n",
      "0                            Braund, Mr. Owen Harris    male  22.0      1   \n",
      "1  Cumings, Mrs. John Bradley (Florence Briggs Th...  female  38.0      1   \n",
      "2                             Heikkinen, Miss. Laina  female  26.0      0   \n",
      "3       Futrelle, Mrs. Jacques Heath (Lily May Peel)  female  35.0      1   \n",
      "4                           Allen, Mr. William Henry    male  35.0      0   \n",
      "\n",
      "   Parch            Ticket     Fare Cabin Embarked  \n",
      "0      0         A/5 21171   7.2500   NaN        S  \n",
      "1      0          PC 17599  71.2833   C85        C  \n",
      "2      0  STON/O2. 3101282   7.9250   NaN        S  \n",
      "3      0            113803  53.1000  C123        S  \n",
      "4      0            373450   8.0500   NaN        S  \n"
     ]
    }
   ],
   "source": [
    "print(Titanic_Df.head()) #Displaying first five rows"
   ]
  },
  {
   "cell_type": "markdown",
   "id": "96c88366",
   "metadata": {},
   "source": [
    "Task 03: Explore the Dataset"
   ]
  },
  {
   "cell_type": "code",
   "execution_count": 15,
   "id": "197c43e7",
   "metadata": {},
   "outputs": [
    {
     "name": "stdout",
     "output_type": "stream",
     "text": [
      "(891, 12)\n"
     ]
    }
   ],
   "source": [
    "# Shape of the DataFrame\n",
    "print(Titanic_Df.shape)  # (rows, columns)"
   ]
  },
  {
   "cell_type": "code",
   "execution_count": 16,
   "id": "006e8d1f",
   "metadata": {},
   "outputs": [
    {
     "name": "stdout",
     "output_type": "stream",
     "text": [
      "891\n"
     ]
    }
   ],
   "source": [
    "#Number of rows\n",
    "print(len(Titanic_Df))"
   ]
  },
  {
   "cell_type": "code",
   "execution_count": 17,
   "id": "186ddea4",
   "metadata": {},
   "outputs": [
    {
     "name": "stdout",
     "output_type": "stream",
     "text": [
      "12\n"
     ]
    }
   ],
   "source": [
    "#Number of columns\n",
    "print(Titanic_Df.shape[1])"
   ]
  },
  {
   "cell_type": "code",
   "execution_count": 18,
   "id": "1338237d",
   "metadata": {},
   "outputs": [
    {
     "name": "stdout",
     "output_type": "stream",
     "text": [
      "   PassengerId  Survived  Pclass  \\\n",
      "0            1         0       3   \n",
      "1            2         1       1   \n",
      "2            3         1       3   \n",
      "3            4         1       1   \n",
      "4            5         0       3   \n",
      "\n",
      "                                                Name     Sex   Age  SibSp  \\\n",
      "0                            Braund, Mr. Owen Harris    male  22.0      1   \n",
      "1  Cumings, Mrs. John Bradley (Florence Briggs Th...  female  38.0      1   \n",
      "2                             Heikkinen, Miss. Laina  female  26.0      0   \n",
      "3       Futrelle, Mrs. Jacques Heath (Lily May Peel)  female  35.0      1   \n",
      "4                           Allen, Mr. William Henry    male  35.0      0   \n",
      "\n",
      "   Parch            Ticket     Fare Cabin Embarked  \n",
      "0      0         A/5 21171   7.2500   NaN        S  \n",
      "1      0          PC 17599  71.2833   C85        C  \n",
      "2      0  STON/O2. 3101282   7.9250   NaN        S  \n",
      "3      0            113803  53.1000  C123        S  \n",
      "4      0            373450   8.0500   NaN        S  \n"
     ]
    }
   ],
   "source": [
    "# head()- First 5 rows\n",
    "print(Titanic_Df.head())"
   ]
  },
  {
   "cell_type": "code",
   "execution_count": 19,
   "id": "18dcb058",
   "metadata": {},
   "outputs": [
    {
     "name": "stdout",
     "output_type": "stream",
     "text": [
      "     PassengerId  Survived  Pclass                                      Name  \\\n",
      "886          887         0       2                     Montvila, Rev. Juozas   \n",
      "887          888         1       1              Graham, Miss. Margaret Edith   \n",
      "888          889         0       3  Johnston, Miss. Catherine Helen \"Carrie\"   \n",
      "889          890         1       1                     Behr, Mr. Karl Howell   \n",
      "890          891         0       3                       Dooley, Mr. Patrick   \n",
      "\n",
      "        Sex   Age  SibSp  Parch      Ticket   Fare Cabin Embarked  \n",
      "886    male  27.0      0      0      211536  13.00   NaN        S  \n",
      "887  female  19.0      0      0      112053  30.00   B42        S  \n",
      "888  female   NaN      1      2  W./C. 6607  23.45   NaN        S  \n",
      "889    male  26.0      0      0      111369  30.00  C148        C  \n",
      "890    male  32.0      0      0      370376   7.75   NaN        Q  \n"
     ]
    }
   ],
   "source": [
    "# tail()- Last 5 rows\n",
    "print(Titanic_Df.tail())"
   ]
  },
  {
   "cell_type": "code",
   "execution_count": 20,
   "id": "c52aadc2",
   "metadata": {},
   "outputs": [
    {
     "name": "stdout",
     "output_type": "stream",
     "text": [
      "<class 'pandas.core.frame.DataFrame'>\n"
     ]
    }
   ],
   "source": [
    "# class- Data type of the object\n",
    "print(type(Titanic_Df))"
   ]
  },
  {
   "cell_type": "code",
   "execution_count": 21,
   "id": "990cb9c5",
   "metadata": {},
   "outputs": [
    {
     "name": "stdout",
     "output_type": "stream",
     "text": [
      "       PassengerId    Survived      Pclass         Age       SibSp  \\\n",
      "count   891.000000  891.000000  891.000000  714.000000  891.000000   \n",
      "mean    446.000000    0.383838    2.308642   29.699118    0.523008   \n",
      "std     257.353842    0.486592    0.836071   14.526497    1.102743   \n",
      "min       1.000000    0.000000    1.000000    0.420000    0.000000   \n",
      "25%     223.500000    0.000000    2.000000   20.125000    0.000000   \n",
      "50%     446.000000    0.000000    3.000000   28.000000    0.000000   \n",
      "75%     668.500000    1.000000    3.000000   38.000000    1.000000   \n",
      "max     891.000000    1.000000    3.000000   80.000000    8.000000   \n",
      "\n",
      "            Parch        Fare  \n",
      "count  891.000000  891.000000  \n",
      "mean     0.381594   32.204208  \n",
      "std      0.806057   49.693429  \n",
      "min      0.000000    0.000000  \n",
      "25%      0.000000    7.910400  \n",
      "50%      0.000000   14.454200  \n",
      "75%      0.000000   31.000000  \n",
      "max      6.000000  512.329200  \n"
     ]
    }
   ],
   "source": [
    "# Summary statistics\n",
    "print(Titanic_Df.describe())"
   ]
  },
  {
   "cell_type": "code",
   "execution_count": 22,
   "id": "09c7e790",
   "metadata": {},
   "outputs": [
    {
     "name": "stdout",
     "output_type": "stream",
     "text": [
      "<class 'pandas.core.frame.DataFrame'>\n",
      "RangeIndex: 891 entries, 0 to 890\n",
      "Data columns (total 12 columns):\n",
      " #   Column       Non-Null Count  Dtype  \n",
      "---  ------       --------------  -----  \n",
      " 0   PassengerId  891 non-null    int64  \n",
      " 1   Survived     891 non-null    int64  \n",
      " 2   Pclass       891 non-null    int64  \n",
      " 3   Name         891 non-null    object \n",
      " 4   Sex          891 non-null    object \n",
      " 5   Age          714 non-null    float64\n",
      " 6   SibSp        891 non-null    int64  \n",
      " 7   Parch        891 non-null    int64  \n",
      " 8   Ticket       891 non-null    object \n",
      " 9   Fare         891 non-null    float64\n",
      " 10  Cabin        204 non-null    object \n",
      " 11  Embarked     889 non-null    object \n",
      "dtypes: float64(2), int64(5), object(5)\n",
      "memory usage: 83.7+ KB\n",
      "None\n"
     ]
    }
   ],
   "source": [
    "# Structure of the DataFrame\n",
    "print(Titanic_Df.info())"
   ]
  },
  {
   "cell_type": "code",
   "execution_count": 23,
   "id": "f85fe7eb",
   "metadata": {},
   "outputs": [
    {
     "name": "stdout",
     "output_type": "stream",
     "text": [
      "Index(['PassengerId', 'Survived', 'Pclass', 'Name', 'Sex', 'Age', 'SibSp',\n",
      "       'Parch', 'Ticket', 'Fare', 'Cabin', 'Embarked'],\n",
      "      dtype='object')\n"
     ]
    }
   ],
   "source": [
    "# Column names\n",
    "print(Titanic_Df.columns)"
   ]
  },
  {
   "cell_type": "code",
   "execution_count": 24,
   "id": "f52e54b2",
   "metadata": {},
   "outputs": [
    {
     "name": "stdout",
     "output_type": "stream",
     "text": [
      "Pclass\n",
      "3    491\n",
      "1    216\n",
      "2    184\n",
      "Name: count, dtype: int64\n"
     ]
    }
   ],
   "source": [
    "# Frequency counts for Pclass\n",
    "print(Titanic_Df['Pclass'].value_counts())"
   ]
  },
  {
   "cell_type": "code",
   "execution_count": 25,
   "id": "cb6b2c69",
   "metadata": {},
   "outputs": [
    {
     "name": "stdout",
     "output_type": "stream",
     "text": [
      "['male' 'female']\n"
     ]
    }
   ],
   "source": [
    "# Unique values in the Sex column\n",
    "print(Titanic_Df['Sex'].unique())"
   ]
  },
  {
   "cell_type": "markdown",
   "id": "7bc2ba5d",
   "metadata": {},
   "source": [
    "Task 04: Handle Missing Values"
   ]
  },
  {
   "cell_type": "code",
   "execution_count": 27,
   "id": "f4b5cde1",
   "metadata": {},
   "outputs": [
    {
     "name": "stdout",
     "output_type": "stream",
     "text": [
      "PassengerId      0\n",
      "Survived         0\n",
      "Pclass           0\n",
      "Name             0\n",
      "Sex              0\n",
      "Age            177\n",
      "SibSp            0\n",
      "Parch            0\n",
      "Ticket           0\n",
      "Fare             0\n",
      "Cabin          687\n",
      "Embarked         2\n",
      "dtype: int64\n"
     ]
    }
   ],
   "source": [
    "# Check for missing values in each column\n",
    "Titanic_Df.isnull().sum()\n",
    "print(Titanic_Df.isnull().sum())"
   ]
  },
  {
   "cell_type": "code",
   "execution_count": 28,
   "id": "a0d705c1",
   "metadata": {},
   "outputs": [
    {
     "name": "stdout",
     "output_type": "stream",
     "text": [
      "Missing values in Age column: 177\n"
     ]
    }
   ],
   "source": [
    "# Checking missing values in the 'Age' column:\n",
    "print(\"Missing values in Age column:\", Titanic_Df['Age'].isnull().sum())"
   ]
  },
  {
   "cell_type": "code",
   "execution_count": 30,
   "id": "41b05883",
   "metadata": {},
   "outputs": [],
   "source": [
    "# Replace missing values in 'Age' with the mean of 'Age'\n",
    "Age_mean = Titanic_Df['Age'].mean()\n",
    "Titanic_Df['Age'].fillna(Age_mean, inplace=True)"
   ]
  },
  {
   "cell_type": "code",
   "execution_count": 31,
   "id": "c67a455f",
   "metadata": {},
   "outputs": [
    {
     "name": "stdout",
     "output_type": "stream",
     "text": [
      "Missing values in Age column after replacement: 0\n"
     ]
    }
   ],
   "source": [
    "# Verify that missing values have been replaced\n",
    "print(\"Missing values in Age column after replacement:\", Titanic_Df['Age'].isnull().sum())"
   ]
  },
  {
   "cell_type": "markdown",
   "id": "fbc9335a",
   "metadata": {},
   "source": [
    "Task 5: Data Manipulation using Pandas"
   ]
  },
  {
   "cell_type": "code",
   "execution_count": 32,
   "id": "601bbc4c",
   "metadata": {},
   "outputs": [
    {
     "name": "stdout",
     "output_type": "stream",
     "text": [
      "                                                Name   Age     Fare\n",
      "0                            Braund, Mr. Owen Harris  22.0   7.2500\n",
      "1  Cumings, Mrs. John Bradley (Florence Briggs Th...  38.0  71.2833\n",
      "2                             Heikkinen, Miss. Laina  26.0   7.9250\n",
      "3       Futrelle, Mrs. Jacques Heath (Lily May Peel)  35.0  53.1000\n",
      "4                           Allen, Mr. William Henry  35.0   8.0500\n"
     ]
    }
   ],
   "source": [
    "#Column Selection: Select specific columns (e.g., 'Name', 'Age', 'Fare')\n",
    "Columns_selected = Titanic_Df[['Name', 'Age', 'Fare']]\n",
    "print(Columns_selected.head())"
   ]
  },
  {
   "cell_type": "code",
   "execution_count": 34,
   "id": "2f95f3f9",
   "metadata": {},
   "outputs": [
    {
     "name": "stdout",
     "output_type": "stream",
     "text": [
      "    PassengerId  Survived  Pclass  \\\n",
      "1             2         1       1   \n",
      "3             4         1       1   \n",
      "4             5         0       3   \n",
      "6             7         0       1   \n",
      "11           12         1       1   \n",
      "\n",
      "                                                 Name     Sex   Age  SibSp  \\\n",
      "1   Cumings, Mrs. John Bradley (Florence Briggs Th...  female  38.0      1   \n",
      "3        Futrelle, Mrs. Jacques Heath (Lily May Peel)  female  35.0      1   \n",
      "4                            Allen, Mr. William Henry    male  35.0      0   \n",
      "6                             McCarthy, Mr. Timothy J    male  54.0      0   \n",
      "11                           Bonnell, Miss. Elizabeth  female  58.0      0   \n",
      "\n",
      "    Parch    Ticket     Fare Cabin Embarked  \n",
      "1       0  PC 17599  71.2833   C85        C  \n",
      "3       0    113803  53.1000  C123        S  \n",
      "4       0    373450   8.0500   NaN        S  \n",
      "6       0     17463  51.8625   E46        S  \n",
      "11      0    113783  26.5500  C103        S  \n"
     ]
    }
   ],
   "source": [
    "#Row Filtering: Select rows where 'Age' is greater than 30\n",
    "Age_above30 = Titanic_Df[Titanic_Df['Age'] > 30]\n",
    "print(Age_above30.head())"
   ]
  },
  {
   "cell_type": "code",
   "execution_count": 35,
   "id": "5ce1791a",
   "metadata": {},
   "outputs": [
    {
     "name": "stdout",
     "output_type": "stream",
     "text": [
      "     PassengerId  Survived  Pclass                                Name  \\\n",
      "258          259         1       1                    Ward, Miss. Anna   \n",
      "737          738         1       1              Lesurer, Mr. Gustave J   \n",
      "679          680         1       1  Cardeza, Mr. Thomas Drake Martinez   \n",
      "88            89         1       1          Fortune, Miss. Mabel Helen   \n",
      "27            28         0       1      Fortune, Mr. Charles Alexander   \n",
      "\n",
      "        Sex   Age  SibSp  Parch    Ticket      Fare        Cabin Embarked  \n",
      "258  female  35.0      0      0  PC 17755  512.3292          NaN        C  \n",
      "737    male  35.0      0      0  PC 17755  512.3292         B101        C  \n",
      "679    male  36.0      0      1  PC 17755  512.3292  B51 B53 B55        C  \n",
      "88   female  23.0      3      2     19950  263.0000  C23 C25 C27        S  \n",
      "27     male  19.0      3      2     19950  263.0000  C23 C25 C27        S  \n"
     ]
    }
   ],
   "source": [
    "#Sorting the DataFrame by 'Fare' in descending order\n",
    "Fare_Sorted = Titanic_Df.sort_values(by='Fare', ascending=False)\n",
    "print(Fare_Sorted.head())"
   ]
  },
  {
   "cell_type": "code",
   "execution_count": 36,
   "id": "3e9c5ec5",
   "metadata": {},
   "outputs": [],
   "source": [
    "#Create new columns: Convert 'Age' to 'Age_months' and 'Fare' to 'Fare_BDT'\n",
    "Titanic_Df['Age_months'] = Titanic_Df['Age'] * 12\n",
    "Titanic_Df['Fare_BDT'] = Titanic_Df['Fare'] * 118.85"
   ]
  },
  {
   "cell_type": "code",
   "execution_count": 37,
   "id": "24e939c6",
   "metadata": {},
   "outputs": [
    {
     "name": "stdout",
     "output_type": "stream",
     "text": [
      "                                                Name   Age  Age_months  \\\n",
      "0                            Braund, Mr. Owen Harris  22.0       264.0   \n",
      "1  Cumings, Mrs. John Bradley (Florence Briggs Th...  38.0       456.0   \n",
      "2                             Heikkinen, Miss. Laina  26.0       312.0   \n",
      "3       Futrelle, Mrs. Jacques Heath (Lily May Peel)  35.0       420.0   \n",
      "4                           Allen, Mr. William Henry  35.0       420.0   \n",
      "\n",
      "      Fare     Fare_BDT  \n",
      "0   7.2500   861.662500  \n",
      "1  71.2833  8472.020205  \n",
      "2   7.9250   941.886250  \n",
      "3  53.1000  6310.935000  \n",
      "4   8.0500   956.742500  \n"
     ]
    }
   ],
   "source": [
    "print(Titanic_Df[['Name', 'Age', 'Age_months', 'Fare', 'Fare_BDT']].head())"
   ]
  },
  {
   "cell_type": "markdown",
   "id": "175e8c96",
   "metadata": {},
   "source": [
    "Task 06: Summarize Data"
   ]
  },
  {
   "cell_type": "code",
   "execution_count": 38,
   "id": "0140861f",
   "metadata": {},
   "outputs": [],
   "source": [
    "# Group by Pclass and calculate the mean Fare for each class\n",
    "Meanfare_by_class = Titanic_Df.groupby('Pclass')['Fare'].mean()"
   ]
  },
  {
   "cell_type": "code",
   "execution_count": 39,
   "id": "3aacd521",
   "metadata": {},
   "outputs": [
    {
     "name": "stdout",
     "output_type": "stream",
     "text": [
      "Pclass\n",
      "1    84.154687\n",
      "2    20.662183\n",
      "3    13.675550\n",
      "Name: Fare, dtype: float64\n"
     ]
    }
   ],
   "source": [
    "# Display the result\n",
    "print(Meanfare_by_class)"
   ]
  },
  {
   "cell_type": "markdown",
   "id": "cd10d951",
   "metadata": {},
   "source": [
    "Task 7: String Manipulation and Summarization"
   ]
  },
  {
   "cell_type": "code",
   "execution_count": 40,
   "id": "4c2cb0fc",
   "metadata": {},
   "outputs": [],
   "source": [
    "#Split the 'Name' column to extract the surname\n",
    "Titanic_Df['SurName'] = Titanic_Df['Name'].apply(lambda x: x.split(',')[0])"
   ]
  },
  {
   "cell_type": "code",
   "execution_count": 41,
   "id": "9f4405f3",
   "metadata": {},
   "outputs": [
    {
     "name": "stdout",
     "output_type": "stream",
     "text": [
      "SurName\n",
      "Abbing           1\n",
      "Abbott           2\n",
      "Abelson          2\n",
      "Adahl            1\n",
      "Adams            1\n",
      "                ..\n",
      "de Mulder        1\n",
      "de Pelsmaeker    1\n",
      "del Carlo        1\n",
      "van Billiard     1\n",
      "van Melkebeke    1\n",
      "Name: Name, Length: 667, dtype: int64\n"
     ]
    }
   ],
   "source": [
    "#Group by 'SurName' and count occurrences based on 'Name' (first names included)\n",
    "Surname_counts = Titanic_Df.groupby('SurName')['Name'].count()\n",
    "\n",
    "# Display the result of grouping and counting\n",
    "print(Surname_counts)"
   ]
  },
  {
   "cell_type": "code",
   "execution_count": 42,
   "id": "302dc6e7",
   "metadata": {},
   "outputs": [],
   "source": [
    "#Save the modified DataFrame with the new 'SurName' column as a CSV file\n",
    "Titanic_Df.to_csv('titanic2.csv', index=False)"
   ]
  },
  {
   "cell_type": "markdown",
   "id": "e9bd5a32",
   "metadata": {},
   "source": [
    "Task 08: Indexing and Slicing"
   ]
  },
  {
   "cell_type": "code",
   "execution_count": 43,
   "id": "ec86e1ce",
   "metadata": {},
   "outputs": [
    {
     "name": "stdout",
     "output_type": "stream",
     "text": [
      "Name      Braund, Mr. Owen Harris\n",
      "Ticket                  A/5 21171\n",
      "Name: 0, dtype: object\n"
     ]
    }
   ],
   "source": [
    "#Using loc (Labeled based indexing)\n",
    "Row_loc = Titanic_Df.loc[0, ['Name', 'Ticket']]\n",
    "print(Row_loc)"
   ]
  },
  {
   "cell_type": "code",
   "execution_count": 45,
   "id": "6868c40e",
   "metadata": {},
   "outputs": [
    {
     "name": "stdout",
     "output_type": "stream",
     "text": [
      "                                                  Name     Fare\n",
      "1    Cumings, Mrs. John Bradley (Florence Briggs Th...  71.2833\n",
      "3         Futrelle, Mrs. Jacques Heath (Lily May Peel)  53.1000\n",
      "6                              McCarthy, Mr. Timothy J  51.8625\n",
      "11                            Bonnell, Miss. Elizabeth  26.5500\n",
      "23                        Sloper, Mr. William Thompson  35.5000\n",
      "..                                                 ...      ...\n",
      "871   Beckwith, Mrs. Richard Leonard (Sallie Monypeny)  52.5542\n",
      "872                           Carlsson, Mr. Frans Olof   5.0000\n",
      "879      Potter, Mrs. Thomas Jr (Lily Alexenia Wilson)  83.1583\n",
      "887                       Graham, Miss. Margaret Edith  30.0000\n",
      "889                              Behr, Mr. Karl Howell  30.0000\n",
      "\n",
      "[216 rows x 2 columns]\n"
     ]
    }
   ],
   "source": [
    "#Using loc (Labeled based indexing)\n",
    "Rows_loc = Titanic_Df.loc[Titanic_Df['Pclass'] == 1, ['Name', 'Fare']]\n",
    "print(Rows_loc)"
   ]
  },
  {
   "cell_type": "code",
   "execution_count": 48,
   "id": "d78d4414",
   "metadata": {},
   "outputs": [
    {
     "name": "stdout",
     "output_type": "stream",
     "text": [
      "PassengerId    1\n",
      "Survived       0\n",
      "Name: 0, dtype: object\n",
      "   PassengerId  Survived  Pclass  \\\n",
      "0            1         0       3   \n",
      "1            2         1       1   \n",
      "2            3         1       3   \n",
      "3            4         1       1   \n",
      "4            5         0       3   \n",
      "5            6         0       3   \n",
      "\n",
      "                                                Name  \n",
      "0                            Braund, Mr. Owen Harris  \n",
      "1  Cumings, Mrs. John Bradley (Florence Briggs Th...  \n",
      "2                             Heikkinen, Miss. Laina  \n",
      "3       Futrelle, Mrs. Jacques Heath (Lily May Peel)  \n",
      "4                           Allen, Mr. William Henry  \n",
      "5                                   Moran, Mr. James  \n"
     ]
    }
   ],
   "source": [
    "#Using iloc (integer based indexing)\n",
    "\n",
    "Row_iloc = Titanic_Df.iloc[0, 0:2]#First row and first  two column\n",
    "print(Row_iloc)\n",
    "\n",
    "\n",
    "Rows_iloc = Titanic_Df.iloc[0:6, 0:4] #first 6 rows and first 4 columns\n",
    "print(Rows_iloc)"
   ]
  },
  {
   "cell_type": "code",
   "execution_count": 49,
   "id": "75484008",
   "metadata": {},
   "outputs": [
    {
     "name": "stdout",
     "output_type": "stream",
     "text": [
      "                                                  Name     Fare\n",
      "1    Cumings, Mrs. John Bradley (Florence Briggs Th...  71.2833\n",
      "3         Futrelle, Mrs. Jacques Heath (Lily May Peel)  53.1000\n",
      "6                              McCarthy, Mr. Timothy J  51.8625\n",
      "11                            Bonnell, Miss. Elizabeth  26.5500\n",
      "23                        Sloper, Mr. William Thompson  35.5000\n",
      "..                                                 ...      ...\n",
      "871   Beckwith, Mrs. Richard Leonard (Sallie Monypeny)  52.5542\n",
      "872                           Carlsson, Mr. Frans Olof   5.0000\n",
      "879      Potter, Mrs. Thomas Jr (Lily Alexenia Wilson)  83.1583\n",
      "887                       Graham, Miss. Margaret Edith  30.0000\n",
      "889                              Behr, Mr. Karl Howell  30.0000\n",
      "\n",
      "[216 rows x 2 columns]\n",
      "                                                Name   Age\n",
      "0                            Braund, Mr. Owen Harris  22.0\n",
      "1  Cumings, Mrs. John Bradley (Florence Briggs Th...  38.0\n",
      "2                             Heikkinen, Miss. Laina  26.0\n",
      "3       Futrelle, Mrs. Jacques Heath (Lily May Peel)  35.0\n",
      "4                           Allen, Mr. William Henry  35.0\n"
     ]
    }
   ],
   "source": [
    "#WITHOUT loc and iloc-\n",
    "\n",
    "Rows_Filtered = Titanic_Df[Titanic_Df['Pclass'] == 1][['Name', 'Fare']]#rows selection using conditions\n",
    "print(Rows_Filtered)\n",
    "\n",
    "Columns_Selected = Titanic_Df[['Name', 'Age']].head() #Columns selection by name\n",
    "print(Columns_Selected)"
   ]
  },
  {
   "cell_type": "markdown",
   "id": "f13b907a",
   "metadata": {},
   "source": [
    "Task 09: Scatter Plot"
   ]
  },
  {
   "cell_type": "code",
   "execution_count": 50,
   "id": "0d6c4d0c",
   "metadata": {},
   "outputs": [
    {
     "data": {
      "text/plain": [
       "<Axes: title={'center': 'Scatter Plot: Age vs Fare'}, xlabel='Age', ylabel='Fare'>"
      ]
     },
     "execution_count": 50,
     "metadata": {},
     "output_type": "execute_result"
    },
    {
     "data": {
      "image/png": "[encoded data removed]",
      "text/plain": [
       "<Figure size 640x480 with 1 Axes>"
      ]
     },
     "metadata": {},
     "output_type": "display_data"
    }
   ],
   "source": [
    "#Scatter plot using pandas plot\n",
    "Titanic_Df.plot.scatter(x='Age', y='Fare', title='Scatter Plot: Age vs Fare')"
   ]
  },
  {
   "cell_type": "code",
   "execution_count": 51,
   "id": "13226db4",
   "metadata": {},
   "outputs": [
    {
     "data": {
      "image/png": "[encoded data removed]",
      "text/plain": [
       "<Figure size 1000x800 with 1 Axes>"
      ]
     },
     "metadata": {},
     "output_type": "display_data"
    }
   ],
   "source": [
    "#Scatter plot using Matplotlib\n",
    "\n",
    "import matplotlib.pyplot as plt\n",
    "\n",
    "plt.figure(figsize=(10,8))\n",
    "plt.scatter(Titanic_Df['Age'], Titanic_Df['Fare'], alpha=0.5)\n",
    "plt.title('Scatter Plot: Age vs Fare')\n",
    "plt.xlabel('Age')\n",
    "plt.ylabel('Fare')\n",
    "plt.show()"
   ]
  },
  {
   "cell_type": "markdown",
   "id": "9b3dc957",
   "metadata": {},
   "source": [
    "Task 10- Boxplot"
   ]
  },
  {
   "cell_type": "code",
   "execution_count": 54,
   "id": "32ebd4fe",
   "metadata": {},
   "outputs": [
    {
     "data": {
      "text/plain": [
       "<Axes: title={'center': 'Fare'}, xlabel='Pclass'>"
      ]
     },
     "execution_count": 54,
     "metadata": {},
     "output_type": "execute_result"
    },
    {
     "data": {
      "image/png": "[encoded data removed]",
      "text/plain": [
       "<Figure size 640x480 with 1 Axes>"
      ]
     },
     "metadata": {},
     "output_type": "display_data"
    }
   ],
   "source": [
    "#Using pandas plot\n",
    "\n",
    "Titanic_Df['Pclass'] = Titanic_Df['Pclass'].astype('category')# Converted Pclass to a categorical variable\n",
    "\n",
    "Titanic_Df.boxplot(column='Fare', by='Pclass', grid=False) # Created boxplot using Pandas"
   ]
  },
  {
   "cell_type": "code",
   "execution_count": 55,
   "id": "d0db4bdb",
   "metadata": {},
   "outputs": [
    {
     "data": {
      "text/plain": [
       "<Figure size 800x600 with 0 Axes>"
      ]
     },
     "metadata": {},
     "output_type": "display_data"
    },
    {
     "data": {
      "image/png": "[encoded data removed]",
      "text/plain": [
       "<Figure size 640x480 with 1 Axes>"
      ]
     },
     "metadata": {},
     "output_type": "display_data"
    }
   ],
   "source": [
    "#Using Matplotlib\n",
    "\n",
    "plt.figure(figsize=(8,6))\n",
    "Titanic_Df.boxplot(column='Fare', by='Pclass', grid=False)\n",
    "plt.title('Boxplot: Fare Distribution by Pclass')\n",
    "plt.suptitle('')  # Removed the automatic suptitle\n",
    "plt.xlabel('Pclass')\n",
    "plt.ylabel('Fare')\n",
    "plt.show()\n"
   ]
  },
  {
   "cell_type": "code",
   "execution_count": null,
   "id": "017c6930",
   "metadata": {},
   "outputs": [],
   "source": []
  },
  {
   "cell_type": "code",
   "execution_count": null,
   "id": "20101634",
   "metadata": {},
   "outputs": [],
   "source": []
  },
  {
   "cell_type": "code",
   "execution_count": null,
   "id": "a6beb00c",
   "metadata": {},
   "outputs": [],
   "source": []
  },
  {
   "cell_type": "code",
   "execution_count": null,
   "id": "93764498",
   "metadata": {},
   "outputs": [],
   "source": []
  }
 ],
 "metadata": {
  "kernelspec": {
   "display_name": "Python 3 (ipykernel)",
   "language": "python",
   "name": "python3"
  },
  "language_info": {
   "codemirror_mode": {
    "name": "ipython",
    "version": 3
   },
   "file_extension": ".py",
   "mimetype": "text/x-python",
   "name": "python",
   "nbconvert_exporter": "python",
   "pygments_lexer": "ipython3",
   "version": "3.11.7"
  }
 },
 "nbformat": 4,
 "nbformat_minor": 5
}
